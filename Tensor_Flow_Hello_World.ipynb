{
  "nbformat": 4,
  "nbformat_minor": 0,
  "metadata": {
    "colab": {
      "name": "Tensor Flow Hello World.ipynb",
      "provenance": [],
      "authorship_tag": "ABX9TyPwNffiJyIj/HScObhZWvUr",
      "include_colab_link": true
    },
    "kernelspec": {
      "name": "python3",
      "display_name": "Python 3"
    },
    "language_info": {
      "name": "python"
    }
  },
  "cells": [
    {
      "cell_type": "markdown",
      "metadata": {
        "id": "view-in-github",
        "colab_type": "text"
      },
      "source": [
        "<a href=\"https://colab.research.google.com/github/gmnvh/ai/blob/main/Tensor_Flow_Hello_World.ipynb\" target=\"_parent\"><img src=\"https://colab.research.google.com/assets/colab-badge.svg\" alt=\"Open In Colab\"/></a>"
      ]
    },
    {
      "cell_type": "markdown",
      "metadata": {
        "id": "H-s6oY68-h61"
      },
      "source": [
        "# Tensor Flow Hello World\n",
        "\n",
        "Objective for this Notebook\n",
        "1. How does TensorFlow work?\n",
        "2. Building a Graph. \n",
        "3. Meaning of Tensor? \n",
        "4. Defining multidimensional arrays using TensorFlow. ¶\n",
        "5. How TensorFlow handles Variables. \n",
        "6. What are these Placeholders and what do they do? \n",
        "7. Learn Operations using TensorFlow\n",
        "\n",
        "## How does TensorFlow work?\n",
        "TensorFlow defines computations as Graphs, and these are made with operations (also know as “ops”). So, when we work with TensorFlow, it is the same as defining a series of operations in a Graph.\n",
        "\n",
        "For example, the image below represents a graph in TensorFlow. W, x and b are tensors over the edges of this graph. MatMul is an operation over the tensors_W_ and b, after that Add is called and add the result of the previous operator with b. The resultant tensors of each operation cross the next one until the end where it's possible to get the wanted result.\n",
        "\n",
        "![mod_ID_23_final.png](data:image/png;base64,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)\n",
        "\n",
        "With TensorFlow 2.x, Eager Execution is enabled by default. This allows TensorFlow code to be executed and evaluated line by line. Before version 2.x was released, every graph had to be run wihthin a TensorFlow session. This only allowed for the entire graph to be run all at once. This would make debugging the computation graph each time."
      ]
    },
    {
      "cell_type": "markdown",
      "metadata": {
        "id": "cB7-LIEmAEua"
      },
      "source": [
        "## Importing TensorFlow\n",
        "\n",
        "To use TensorFlow, we need to import the library. We imported it and optionally gave it the name \"tf\", so the modules can be accessed by tf.module-name:"
      ]
    },
    {
      "cell_type": "code",
      "metadata": {
        "colab": {
          "base_uri": "https://localhost:8080/",
          "height": 35
        },
        "id": "l8OgXD3E9nTb",
        "outputId": "a0fb0d2f-6c19-4f44-bb13-eb9e707f7391"
      },
      "source": [
        "import tensorflow as tf\n",
        "\n",
        "tf.__version__"
      ],
      "execution_count": 1,
      "outputs": [
        {
          "output_type": "execute_result",
          "data": {
            "application/vnd.google.colaboratory.intrinsic+json": {
              "type": "string"
            },
            "text/plain": [
              "'2.4.1'"
            ]
          },
          "metadata": {
            "tags": []
          },
          "execution_count": 1
        }
      ]
    },
    {
      "cell_type": "markdown",
      "metadata": {
        "id": "1rWYzsE7-hG-"
      },
      "source": [
        "\n",
        "\n",
        "---\n",
        "\n"
      ]
    },
    {
      "cell_type": "markdown",
      "metadata": {
        "id": "0fehF2xoAA1H"
      },
      "source": [
        "## tf.function and AutoGraph\n",
        "Now we call the TensorFlow functions that construct new tf.Operation and tf.Tensor objects. As mentioned, each tf.Operation is a node and each tf.Tensor is an edge in the graph.\n",
        "\n",
        "Lets add 2 constants to our graph. For example, calling tf.constant([2], name = 'constant_a') adds a single tf.Operation to the default graph. This operation produces the value 2, and returns a tf.Tensor that represents the value of the constant.\n",
        "\n",
        "Notice: tf.constant([2], name=\"constant_a\") creates a new tf.Operation named \"constant_a\" and returns a tf.Tensor named \"constant_a:0\"."
      ]
    },
    {
      "cell_type": "code",
      "metadata": {
        "id": "2OP3ovQNDWI_"
      },
      "source": [
        "a = tf.constant([2], name = 'constant_a')\n",
        "b = tf.constant([3], name = 'constant_b')"
      ],
      "execution_count": 2,
      "outputs": []
    },
    {
      "cell_type": "markdown",
      "metadata": {
        "id": "Vr465z23DeY8"
      },
      "source": [
        "Lets look at the tensor **a**."
      ]
    },
    {
      "cell_type": "code",
      "metadata": {
        "colab": {
          "base_uri": "https://localhost:8080/"
        },
        "id": "yjUYFl_UDhg3",
        "outputId": "be3f3d7e-3c00-456e-a328-eee31650b3f1"
      },
      "source": [
        "a"
      ],
      "execution_count": 3,
      "outputs": [
        {
          "output_type": "execute_result",
          "data": {
            "text/plain": [
              "<tf.Tensor: shape=(1,), dtype=int32, numpy=array([2], dtype=int32)>"
            ]
          },
          "metadata": {
            "tags": []
          },
          "execution_count": 3
        }
      ]
    },
    {
      "cell_type": "markdown",
      "metadata": {
        "id": "_WQx7PRDDtdx"
      },
      "source": [
        "As you can see, it just shows the name, shape and type of the tensor in the graph. We will see it's value by running the TensorFlow code as shown below."
      ]
    },
    {
      "cell_type": "code",
      "metadata": {
        "colab": {
          "base_uri": "https://localhost:8080/"
        },
        "id": "0_hv2dtNDuNs",
        "outputId": "52d23e23-85e3-433d-c98e-13a6ff7ffed2"
      },
      "source": [
        "tf.print(a.numpy())\n",
        "tf.print(a.numpy()[0])"
      ],
      "execution_count": 5,
      "outputs": [
        {
          "output_type": "stream",
          "text": [
            "array([2], dtype=int32)\n",
            "2\n"
          ],
          "name": "stdout"
        }
      ]
    },
    {
      "cell_type": "markdown",
      "metadata": {
        "id": "qHIEuMYVEI5N"
      },
      "source": [
        "Annotating the python functions with tf.function uses TensorFlow Autograph to create a TensorFlow static execution graph for the function. tf.function annotation tells TensorFlow Autograph to transform function add into TensorFlow control flow, which then defines the TensorFlow static execution graph."
      ]
    },
    {
      "cell_type": "code",
      "metadata": {
        "id": "kARNmMzGEKv4"
      },
      "source": [
        "@tf.function\n",
        "def add(a,b):\n",
        "    c = tf.add(a, b)\n",
        "    #c = a + b is also a way to define the sum of the terms\n",
        "    print(c)\n",
        "    return c"
      ],
      "execution_count": 6,
      "outputs": []
    },
    {
      "cell_type": "code",
      "metadata": {
        "colab": {
          "base_uri": "https://localhost:8080/"
        },
        "id": "QR9t_swqEN9T",
        "outputId": "e75e4c66-026d-42dd-debf-a441eb0ef695"
      },
      "source": [
        "result = add(a,b)\n",
        "tf.print(result[0])"
      ],
      "execution_count": 7,
      "outputs": [
        {
          "output_type": "stream",
          "text": [
            "Tensor(\"Add:0\", shape=(1,), dtype=int32)\n",
            "5\n"
          ],
          "name": "stdout"
        }
      ]
    },
    {
      "cell_type": "markdown",
      "metadata": {
        "id": "dzZDtJW6EYc0"
      },
      "source": [
        "Even this silly example of adding 2 constants to reach a simple result defines the basis of TensorFlow. Define your operations (In this case our constants and tf.add), define a Python function named add and decorate it with using the tf.function annotator.\n",
        "\n",
        "## What is the meaning of Tensor?\n",
        "\n",
        "> In TensorFlow all data is passed between operations in a computation graph, and these are passed in the form of Tensors, hence the name of TensorFlow.\n",
        "\n",
        "> The word tensor from new latin means \"that which stretches\". It is a mathematical object that is named \"tensor\" because an early application of tensors was the study of materials stretching under tension. The contemporary meaning of tensors can be taken as multidimensional arrays. \n",
        "\n",
        "That's great, but... what are these multidimensional arrays?\n",
        "\n",
        "Going back a little bit to physics to understand the concept of dimensions:\n",
        "\n",
        "![dimensions.png](data:image/png;base64,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)\n",
        "\n",
        "The zero dimension can be seen as a point, a single object or a single item.\n",
        "\n",
        "The first dimension can be seen as a line, a one-dimensional array can be seen as numbers along this line, or as points along the line. One dimension can contain infinite zero dimension/points elements.\n",
        "\n",
        "The second dimension can be seen as a surface, a two-dimensional array can be seen as an infinite series of lines along an infinite line.\n",
        "\n",
        "The third dimension can be seen as volume, a three-dimensional array can be seen as an infinite series of surfaces along an infinite line.\n",
        "\n",
        "The Fourth dimension can be seen as the hyperspace or spacetime, a volume varying through time, or an infinite series of volumes along an infinite line. And so forth on...\n",
        "\n",
        "As mathematical objects:\n",
        "\n",
        "![math obs](https://ibm.box.com/shared/static/kmxz570uai8eeg6i6ynqdz6kmlx1m422.png)\n",
        "\n",
        "\n"
      ]
    },
    {
      "cell_type": "markdown",
      "metadata": {
        "id": "YO9feieeHLFJ"
      },
      "source": [
        "Summarizing:\n",
        "\n",
        "Dimension | Physical Representation | Mathematical Object | In Code\n",
        "----------|-------------------------|---------------------|--------\n",
        "Zero | Point |Scalar (Single Number) | [ 1 ]\n",
        "One | Line | Vector (Series of Numbers) | [ 1,2,3,4,... ]\n",
        "Two | Surface | Matrix (Table of Numbers) | [ [1,2,3,4,...], [1,2,3,4,...], ... ]\n",
        "Three | Volume | Tensor (Cube of Numbers) | [ [[1,2,...], [1,2,...], [1,2,...],...], [[1,2,...], [1,2,...], [1,2,...],...], [[1,2,...], [1,2,...], [1,2,...] ,...]... ]"
      ]
    },
    {
      "cell_type": "markdown",
      "metadata": {
        "id": "OOOy_SesIOET"
      },
      "source": [
        "---"
      ]
    },
    {
      "cell_type": "markdown",
      "metadata": {
        "id": "J3h0TOIOIPG6"
      },
      "source": [
        "## Defining multidimensional arrays using TensorFlow\n",
        "Now we will try to define such arrays using TensorFlow:"
      ]
    },
    {
      "cell_type": "code",
      "metadata": {
        "colab": {
          "base_uri": "https://localhost:8080/"
        },
        "id": "KSAaDs95Ii7p",
        "outputId": "68d14cb0-2cde-41bb-88a6-865431bfbb98"
      },
      "source": [
        "Scalar = tf.constant(2)\n",
        "Vector = tf.constant([5,6,2])\n",
        "Matrix = tf.constant([[1,2,3],[2,3,4],[3,4,5]])\n",
        "Tensor = tf.constant( [ [[1,2,3],[2,3,4],[3,4,5]] , [[4,5,6],[5,6,7],[6,7,8]] , [[7,8,9],[8,9,10],[9,10,11]] ] )\n",
        "\n",
        "print (\"Scalar (1 entry):\\n %s \\n\" % Scalar)\n",
        "\n",
        "print (\"Vector (3 entries) :\\n %s \\n\" % Vector)\n",
        "\n",
        "print (\"Matrix (3x3 entries):\\n %s \\n\" % Matrix)\n",
        "\n",
        "print (\"Tensor (3x3x3 entries) :\\n %s \\n\" % Tensor)"
      ],
      "execution_count": 8,
      "outputs": [
        {
          "output_type": "stream",
          "text": [
            "Scalar (1 entry):\n",
            " tf.Tensor(2, shape=(), dtype=int32) \n",
            "\n",
            "Vector (3 entries) :\n",
            " tf.Tensor([5 6 2], shape=(3,), dtype=int32) \n",
            "\n",
            "Matrix (3x3 entries):\n",
            " tf.Tensor(\n",
            "[[1 2 3]\n",
            " [2 3 4]\n",
            " [3 4 5]], shape=(3, 3), dtype=int32) \n",
            "\n",
            "Tensor (3x3x3 entries) :\n",
            " tf.Tensor(\n",
            "[[[ 1  2  3]\n",
            "  [ 2  3  4]\n",
            "  [ 3  4  5]]\n",
            "\n",
            " [[ 4  5  6]\n",
            "  [ 5  6  7]\n",
            "  [ 6  7  8]]\n",
            "\n",
            " [[ 7  8  9]\n",
            "  [ 8  9 10]\n",
            "  [ 9 10 11]]], shape=(3, 3, 3), dtype=int32) \n",
            "\n"
          ],
          "name": "stdout"
        }
      ]
    },
    {
      "cell_type": "markdown",
      "metadata": {
        "id": "FhFGA_bjI5uv"
      },
      "source": [
        "tf.shape returns the shape of our data structure."
      ]
    },
    {
      "cell_type": "code",
      "metadata": {
        "colab": {
          "base_uri": "https://localhost:8080/"
        },
        "id": "Hn3vraL-JC22",
        "outputId": "ee58c408-b275-46e8-8374-434262e23913"
      },
      "source": [
        "tf.print(Scalar.shape)\n",
        "tf.print(Tensor.shape)"
      ],
      "execution_count": 16,
      "outputs": [
        {
          "output_type": "stream",
          "text": [
            "TensorShape([])\n",
            "TensorShape([3, 3, 3])\n"
          ],
          "name": "stdout"
        }
      ]
    },
    {
      "cell_type": "markdown",
      "metadata": {
        "id": "-DnexhK9J2oY"
      },
      "source": [
        "Now that you understand these data structures, I encourage you to play with them using some previous functions to see how they will behave, according to their structure types:"
      ]
    },
    {
      "cell_type": "code",
      "metadata": {
        "colab": {
          "base_uri": "https://localhost:8080/"
        },
        "id": "1DfQifh9J3AW",
        "outputId": "59e911c4-95f6-452b-956d-986930a942b9"
      },
      "source": [
        "Matrix_one = tf.constant([[1,2,3],[2,3,4],[3,4,5]])\n",
        "Matrix_two = tf.constant([[2,2,2],[2,2,2],[2,2,2]])\n",
        "\n",
        "@tf.function\n",
        "def add():\n",
        "    add_1_operation = tf.add(Matrix_one, Matrix_two)\n",
        "    return add_1_operation\n",
        "\n",
        "\n",
        "\n",
        "print (\"Defined using tensorflow function :\")\n",
        "add_1_operation = add()\n",
        "print(add_1_operation)\n",
        "print()\n",
        "\n",
        "print (\"Defined using normal expressions :\")\n",
        "add_2_operation = Matrix_one + Matrix_two\n",
        "print(add_2_operation)"
      ],
      "execution_count": 18,
      "outputs": [
        {
          "output_type": "stream",
          "text": [
            "Defined using tensorflow function :\n",
            "tf.Tensor(\n",
            "[[3 4 5]\n",
            " [4 5 6]\n",
            " [5 6 7]], shape=(3, 3), dtype=int32)\n",
            "\n",
            "Defined using normal expressions :\n",
            "tf.Tensor(\n",
            "[[3 4 5]\n",
            " [4 5 6]\n",
            " [5 6 7]], shape=(3, 3), dtype=int32)\n"
          ],
          "name": "stdout"
        }
      ]
    },
    {
      "cell_type": "markdown",
      "metadata": {
        "id": "JXdgBHO0LRkJ"
      },
      "source": [
        "With the regular symbol definition and also the TensorFlow function we were able to get an element-wise multiplication, also known as Hadamard product.\n",
        "\n",
        "But what if we want the regular matrix product?\n",
        "\n",
        "We then need to use another TensorFlow function called tf.matmul():"
      ]
    },
    {
      "cell_type": "code",
      "metadata": {
        "colab": {
          "base_uri": "https://localhost:8080/"
        },
        "id": "T04OxXONLSXy",
        "outputId": "f2eabdb5-da54-4eee-a2c4-e0af63edd70f"
      },
      "source": [
        "Matrix_one = tf.constant([[2,3],[3,4]])\n",
        "Matrix_two = tf.constant([[2,3],[3,4]])\n",
        "\n",
        "@tf.function\n",
        "def mathmul():\n",
        "  return tf.matmul(Matrix_one, Matrix_two)\n",
        "\n",
        "\n",
        "mul_operation = mathmul()\n",
        "\n",
        "print (\"Defined using tensorflow function :\")\n",
        "print(mul_operation)\n",
        "print('---')\n",
        "tf.print(mul_operation)"
      ],
      "execution_count": 21,
      "outputs": [
        {
          "output_type": "stream",
          "text": [
            "Defined using tensorflow function :\n",
            "tf.Tensor(\n",
            "[[13 18]\n",
            " [18 25]], shape=(2, 2), dtype=int32)\n",
            "---\n",
            "[[13 18]\n",
            " [18 25]]\n"
          ],
          "name": "stdout"
        }
      ]
    },
    {
      "cell_type": "markdown",
      "metadata": {
        "id": "OV7AXwQYLw-Z"
      },
      "source": [
        "We could also define this multiplication ourselves, but there is a function that already does that, so no need to reinvent the wheel!"
      ]
    },
    {
      "cell_type": "markdown",
      "metadata": {
        "id": "g9ZTbIojLyEa"
      },
      "source": [
        "---"
      ]
    },
    {
      "cell_type": "markdown",
      "metadata": {
        "id": "Z90iC-UDLysB"
      },
      "source": [
        "## Why Tensors?\n",
        "The Tensor structure helps us by giving the freedom to shape the dataset in the way we want.\n",
        "\n",
        "And it is particularly helpful when dealing with images, due to the nature of how information in images are encoded,\n",
        "\n",
        "Thinking about images, its easy to understand that it has a height and width, so it would make sense to represent the information contained in it with a two dimensional structure (a matrix)... until you remember that images have colors, and to add information about the colors, we need another dimension, and thats when Tensors become particularly helpful.\n",
        "\n",
        "Images are encoded into color channels, the image data is represented into each color intensity in a color channel at a given point, the most common one being RGB, which means Red, Blue and Green. The information contained into an image is the intensity of each channel color into the width and height of the image, just like this:\n",
        "\n",
        "![bird image](https://ibm.box.com/shared/static/xlpv9h5xws248c09k1rlx7cer69y4grh.png)\n",
        "\n",
        "So the intensity of the red channel at each point with width and height can be represented into a matrix, the same goes for the blue and green channels, so we end up having three matrices, and when these are combined they form a tensor.\n",
        "\n",
        "---"
      ]
    },
    {
      "cell_type": "markdown",
      "metadata": {
        "id": "JYI0FyKsN5d1"
      },
      "source": [
        "## Variables\n",
        "Now that we are more familiar with the structure of data, we will take a look at how TensorFlow handles variables. First of all, having tensors, why do we need variables?\n",
        "TensorFlow variables are used to share and persist some stats that are manipulated by our program. That is, when you define a variable, TensorFlow adds a tf.Operation to your graph. Then, this operation will store a writable tensor value. So, you can update the value of a variable through each run.\n",
        "\n",
        "Let's first create a simple counter, by first initializing a variable v that will be increased one unit at a time:"
      ]
    },
    {
      "cell_type": "code",
      "metadata": {
        "id": "ejtQlQXnORma"
      },
      "source": [
        "v = tf.Variable(0)"
      ],
      "execution_count": 22,
      "outputs": []
    },
    {
      "cell_type": "markdown",
      "metadata": {
        "id": "pxdyvBnuOcEz"
      },
      "source": [
        "We now create a python method increment_by_one. This method will internally call td.add that takes in two arguments, the reference_variable to update, and assign it to the value_to_update it by."
      ]
    },
    {
      "cell_type": "code",
      "metadata": {
        "id": "GrmkIn4_OdZo"
      },
      "source": [
        "@tf.function\n",
        "def increment_by_one(v):\n",
        "        v = tf.add(v,1)\n",
        "        return v"
      ],
      "execution_count": 23,
      "outputs": []
    },
    {
      "cell_type": "markdown",
      "metadata": {
        "id": "zo-F5coGOkb1"
      },
      "source": [
        "To update the value of the variable v, we simply call the increment_by_one method and pass the variable to it. We will invoke this method thrice. This method will increment the variable by one and print the updated value each time."
      ]
    },
    {
      "cell_type": "code",
      "metadata": {
        "colab": {
          "base_uri": "https://localhost:8080/"
        },
        "id": "O5toYlLMOlQE",
        "outputId": "163785bb-aca1-4e63-e0e0-f5a3ddd275c1"
      },
      "source": [
        "for i in range(3):\n",
        "    v = increment_by_one(v)\n",
        "    print(v)"
      ],
      "execution_count": 24,
      "outputs": [
        {
          "output_type": "stream",
          "text": [
            "tf.Tensor(1, shape=(), dtype=int32)\n",
            "tf.Tensor(2, shape=(), dtype=int32)\n",
            "tf.Tensor(3, shape=(), dtype=int32)\n"
          ],
          "name": "stdout"
        }
      ]
    },
    {
      "cell_type": "markdown",
      "metadata": {
        "id": "TofTzOKBOsm7"
      },
      "source": [
        "---"
      ]
    },
    {
      "cell_type": "markdown",
      "metadata": {
        "id": "ID-sPzx0OvNN"
      },
      "source": [
        "## Operations\n",
        "Operations are nodes that represent the mathematical operations over the tensors on a graph. These operations can be any kind of functions, like add and subtract tensor or maybe an activation function.\n",
        "\n",
        "tf.constant, tf.matmul, tf.add, tf.nn.sigmoid are some of the operations in TensorFlow. These are like functions in python but operate directly over tensors and each one does a specific thing.\n",
        "\n",
        "> Other operations can be easily found in: https://www.tensorflow.org/api_docs/python/tf"
      ]
    },
    {
      "cell_type": "code",
      "metadata": {
        "colab": {
          "base_uri": "https://localhost:8080/"
        },
        "id": "4pVzLBYoPUHm",
        "outputId": "649681fc-2dd1-4949-eb37-39086e78e61e"
      },
      "source": [
        "a = tf.constant([5])\n",
        "b = tf.constant([2])\n",
        "c = tf.add(a,b)\n",
        "d = tf.subtract(a,b)\n",
        "\n",
        "\n",
        "print ('c =: %s' % c)\n",
        "    \n",
        "print ('d =: %s' % d)"
      ],
      "execution_count": 25,
      "outputs": [
        {
          "output_type": "stream",
          "text": [
            "c =: tf.Tensor([7], shape=(1,), dtype=int32)\n",
            "d =: tf.Tensor([3], shape=(1,), dtype=int32)\n"
          ],
          "name": "stdout"
        }
      ]
    },
    {
      "cell_type": "markdown",
      "metadata": {
        "id": "WXvKexs3PfEe"
      },
      "source": [
        "tf.nn.sigmoid is an activation function, it's a little more complicated, but this function helps learning models to evaluate what kind of information is good or not.\n",
        "\n",
        "---"
      ]
    }
  ]
}