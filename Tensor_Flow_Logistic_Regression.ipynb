{
  "nbformat": 4,
  "nbformat_minor": 0,
  "metadata": {
    "colab": {
      "name": "Tensor Flow Logistic Regression.ipynb",
      "provenance": [],
      "authorship_tag": "ABX9TyO2vh9DwZBy3wjbjbGmVhuf",
      "include_colab_link": true
    },
    "kernelspec": {
      "name": "python3",
      "display_name": "Python 3"
    },
    "language_info": {
      "name": "python"
    }
  },
  "cells": [
    {
      "cell_type": "markdown",
      "metadata": {
        "id": "view-in-github",
        "colab_type": "text"
      },
      "source": [
        "<a href=\"https://colab.research.google.com/github/gmnvh/ai/blob/main/Tensor_Flow_Logistic_Regression.ipynb\" target=\"_parent\"><img src=\"https://colab.research.google.com/assets/colab-badge.svg\" alt=\"Open In Colab\"/></a>"
      ]
    },
    {
      "cell_type": "markdown",
      "metadata": {
        "id": "-ikYZAcVfjMC"
      },
      "source": [
        "# Logistic Regression with TensorFlow\n",
        "\n",
        "Objective for this Notebook\n",
        "1. What is different between Linear and Logistic Regression?\n",
        "2. Utilizing Logistic Regression in TensorFlow. \n",
        "3. Training the model\n",
        "\n",
        "---\n",
        "\n",
        "## What is different between Linear and Logistic Regression?\n",
        "While Linear Regression is suited for estimating continuous values (e.g. estimating house price), it is not the best tool for predicting the class in which an observed data point belongs. In order to provide estimate for classification, we need some sort of guidance on what would be the most probable class for that data point. For this, we use Logistic Regression.\n",
        "\n",
        "> Recall linear regression:\n",
        ">\n",
        "> Linear regression finds a function that relates a continuous dependent variable, y, to some predictors (independent variables x1, x2, etc.).Simple linear regression assumes a function of the form:\n",
        ">\n",
        "> $𝑦=𝑤0+𝑤1×𝑥1+𝑤2×𝑥2+⋯$\n",
        "> \n",
        ">and finds the values of w0, w1, w2, etc. The term w0 is the \"intercept\" or \"constant term\" (it's shown as b in the formula below):\n",
        ">\n",
        "> $𝑌=𝑊𝑋+𝑏$\n",
        " \n",
        "Logistic Regression is a variation of Linear Regression, useful when the observed dependent variable, y, is categorical. It produces a formula that predicts the probability of the class label as a function of the independent variables.\n",
        "\n",
        "Despite the name logistic regression, it is actually a probabilistic classification model. Logistic regression fits a special s-shaped curve by taking the linear regression and transforming the numeric estimate into a probability with the following function:\n",
        "\n",
        "$𝑃𝑟𝑜𝑏𝑎𝑏𝑖𝑙𝑖𝑡𝑦𝑂𝑓𝑎𝐶𝑙𝑎𝑠𝑠=𝑡ℎ𝑒𝑡𝑎(𝑦)=𝑒𝑦1+𝑒𝑦=𝑒𝑥𝑝(𝑦)/(1+𝑒𝑥𝑝(𝑦))=𝑝$\n",
        "\n",
        "which produces p-values between 0 (as y approaches minus infinity−𝑖𝑛𝑓𝑡𝑦) and 1 (as y approaches plus infinity  +∞ ). This now becomes a special kind of non-linear regression.\n",
        "\n",
        "In this equation, y is the regression result (the sum of the variables weighted by the coefficients), exp is the exponential function and𝑡ℎ𝑒𝑡𝑎(𝑦)is the logistic function, also called logistic curve. It is a common \"S\" shape (sigmoid curve), and was first developed for modeling population growth.\n",
        "\n",
        "You might also have seen this function before, in another configuration:\n",
        "\n",
        "$𝑃𝑟𝑜𝑏𝑎𝑏𝑖𝑙𝑖𝑡𝑦𝑂𝑓𝑎𝐶𝑙𝑎𝑠𝑠=𝑡ℎ𝑒𝑡𝑎(𝑦)=11+𝑒−𝑦$\n",
        "\n",
        "So, briefly, Logistic Regression passes the input through the logistic/sigmoid function but then treats the result as a probability:\n",
        "\n",
        "![lr](https://ibm.box.com/shared/static/kgv9alcghmjcv97op4d6onkyxevk23b1.png)\n",
        "\n",
        "---"
      ]
    },
    {
      "cell_type": "markdown",
      "metadata": {
        "id": "nbdxrl92hFCr"
      },
      "source": [
        "## Utilizing Logistic Regression in TensorFlow\n",
        "\n",
        "For us to utilize Logistic Regression in TensorFlow, we first need to import the required libraries. To do so, you can run the code cell below."
      ]
    },
    {
      "cell_type": "code",
      "metadata": {
        "id": "3l7qpV4NfH_6"
      },
      "source": [
        "import tensorflow as tf\n",
        "import pandas as pd\n",
        "import numpy as np\n",
        "import time\n",
        "from sklearn.datasets import load_iris\n",
        "from sklearn.model_selection import train_test_split\n",
        "import matplotlib.pyplot as plt"
      ],
      "execution_count": 18,
      "outputs": []
    },
    {
      "cell_type": "markdown",
      "metadata": {
        "id": "VhxG0pZIhcdz"
      },
      "source": [
        "Next, we will load the dataset we are going to use. In this case, we are utilizing the iris dataset, which is inbuilt -- so there's no need to do any preprocessing and we can jump right into manipulating it. We separate the dataset into xs and ys, and then into training xs and ys and testing xs and ys, (pseudo)randomly.\n",
        "\n",
        "## Understanding the Data\n",
        "Iris Dataset:\n",
        "\n",
        "This dataset was introduced by British Statistician and Biologist Ronald Fisher, it consists of 50 samples from each of three species of Iris (Iris setosa, Iris virginica and Iris versicolor). In total it has 150 records under five attributes - petal length, petal width, sepal length, sepal width and species.\n",
        "\n",
        "Attributes Independent Variable\n",
        "\n",
        "* petal length\n",
        "* petal width\n",
        "* sepal length\n",
        "* sepal width\n",
        "\n",
        "Dependent Variable\n",
        "* Species\n",
        "  * Iris setosa\n",
        "  * Iris virginica\n",
        "  * Iris versicolor"
      ]
    },
    {
      "cell_type": "code",
      "metadata": {
        "id": "5LVGoGDEiGjh"
      },
      "source": [
        "iris = load_iris()\n",
        "iris_X, iris_y = iris.data[:-1,:], iris.target[:-1]\n",
        "iris_y= pd.get_dummies(iris_y).values\n",
        "trainX, testX, trainY, testY = train_test_split(iris_X, iris_y, test_size=0.33, random_state=42)"
      ],
      "execution_count": 19,
      "outputs": []
    },
    {
      "cell_type": "markdown",
      "metadata": {
        "id": "hW78p0UViTWZ"
      },
      "source": [
        "Now we define x and y. These variables will hold our iris data (both the features and label matrices) We also need to give them shapes which correspond to the shape of our data."
      ]
    },
    {
      "cell_type": "code",
      "metadata": {
        "colab": {
          "base_uri": "https://localhost:8080/"
        },
        "id": "ZvGBtUkhiUB4",
        "outputId": "58058bca-014e-46e8-e798-95fc015ec46d"
      },
      "source": [
        "# numFeatures is the number of features in our input data.\n",
        "# In the iris dataset, this number is '4'.\n",
        "numFeatures = trainX.shape[1]\n",
        "print('numFeatures is : ', numFeatures )\n",
        "# numLabels is the number of classes our data points can be in.\n",
        "# In the iris dataset, this number is '3'.\n",
        "numLabels = trainY.shape[1]\n",
        "print('numLabels is : ', numLabels )\n",
        "\n",
        "#X = tf.Variable( np.identity(numFeatures), tf.TensorShape(numFeatures),dtype='float32') # Iris has 4 features, so X is a tensor to hold our data.\n",
        "#yGold = tf.Variable(np.array([1,1,1]),shape=tf.TensorShape(numLabels),dtype='float32') # This will be our correct answers matrix for 3 classes."
      ],
      "execution_count": 20,
      "outputs": [
        {
          "output_type": "stream",
          "text": [
            "numFeatures is :  4\n",
            "numLabels is :  3\n"
          ],
          "name": "stdout"
        }
      ]
    },
    {
      "cell_type": "code",
      "metadata": {
        "id": "pxLxOBQcik-a"
      },
      "source": [
        "trainX = tf.constant(trainX, dtype='float32')\n",
        "trainY = tf.constant(trainY, dtype='float32')\n",
        "testX = tf.constant(testX, dtype='float32')\n",
        "testY = tf.constant(testY, dtype='float32')"
      ],
      "execution_count": 21,
      "outputs": []
    },
    {
      "cell_type": "markdown",
      "metadata": {
        "id": "qQXvmvZdi7_d"
      },
      "source": [
        "## Set model weights and bias\n",
        "\n",
        "Much like Linear Regression, we need a shared variable weight matrix for Logistic Regression. We initialize both W and b as tensors full of zeros. Since we are going to learn W and b, their initial value does not matter too much. These variables are the objects which define the structure of our regression model, and we can save them after they have been trained so we can reuse them later.\n",
        "\n",
        "We define two TensorFlow variables as our parameters. These variables will hold the weights and biases of our logistic regression and they will be continually updated during training.\n",
        "\n",
        "Notice that W has a shape of [4, 3] because we want to multiply the 4-dimensional input vectors by it to produce 3-dimensional vectors of evidence for the difference classes. b has a shape of [3] so we can add it to the output. TensorFlow variables need to be initialized with values, e.g. with zeros."
      ]
    },
    {
      "cell_type": "code",
      "metadata": {
        "id": "_jH6v8B6jNUm"
      },
      "source": [
        "W = tf.Variable(tf.zeros([4, 3]))  # 4-dimensional input and  3 classes\n",
        "b = tf.Variable(tf.zeros([3])) # 3-dimensional output [0,0,1],[0,1,0],[1,0,0]"
      ],
      "execution_count": 22,
      "outputs": []
    },
    {
      "cell_type": "code",
      "metadata": {
        "id": "RLxVRnPRjPmB"
      },
      "source": [
        "#Randomly sample from a normal distribution with standard deviation .01\n",
        "\n",
        "weights = tf.Variable(tf.random.normal([numFeatures,numLabels],\n",
        "                                       mean=0.,\n",
        "                                       stddev=0.01,\n",
        "                                       name=\"weights\"),dtype='float32')\n",
        "\n",
        "\n",
        "bias = tf.Variable(tf.random.normal([1,numLabels],\n",
        "                                    mean=0.,\n",
        "                                    stddev=0.01,\n",
        "                                    name=\"bias\"))"
      ],
      "execution_count": 23,
      "outputs": []
    },
    {
      "cell_type": "markdown",
      "metadata": {
        "id": "4L6gjA8bjde0"
      },
      "source": [
        "## Logistic Regression model\n",
        "\n",
        "We now define our operations in order to properly run the Logistic Regression. Logistic regression is typically thought of as a single equation:\n",
        "\n",
        "$ŷ=𝑠𝑖𝑔𝑚𝑜𝑖𝑑(𝑊𝑋+𝑏)$\n",
        " \n",
        "However, for the sake of clarity, we can have it broken into its three main components:\n",
        "\n",
        "* a weight times features matrix multiplication operation,\n",
        "* a summation of the weighted features and a bias term,\n",
        "* and finally the application of a sigmoid function.\n",
        "\n",
        "As such, you will find these components defined as three separate operations below."
      ]
    },
    {
      "cell_type": "code",
      "metadata": {
        "id": "2zHcirHxjser"
      },
      "source": [
        "# Three-component breakdown of the Logistic Regression equation.\n",
        "# Note that these feed into each other.\n",
        "def logistic_regression(x):\n",
        "    apply_weights_OP = tf.matmul(x, weights, name=\"apply_weights\")\n",
        "    add_bias_OP = tf.add(apply_weights_OP, bias, name=\"add_bias\") \n",
        "    activation_OP = tf.nn.sigmoid(add_bias_OP, name=\"activation\")\n",
        "    return activation_OP"
      ],
      "execution_count": 24,
      "outputs": []
    },
    {
      "cell_type": "markdown",
      "metadata": {
        "id": "TMSUURqbjyDK"
      },
      "source": [
        "As we have seen before, the function we are going to use is the logistic function(𝑓𝑟𝑎𝑐11+𝑒−𝑊𝑥), which is fed the input data after applying weights and bias. In TensorFlow, this function is implemented as the nn.sigmoid function. Effectively, this fits the weighted input with bias into a 0-100 percent curve, which is the probability function we want.\n",
        "\n",
        "---\n"
      ]
    },
    {
      "cell_type": "markdown",
      "metadata": {
        "id": "0Byv_66ckEAN"
      },
      "source": [
        "## Training\n",
        "The learning algorithm is how we search for the best weight vector ( 𝑏𝑓𝑤 ). This search is an optimization problem looking for the hypothesis that optimizes an error/cost measure.\n",
        "\n",
        "What tell us our model is bad?\n",
        "The Cost or Loss of the model, so what we want is to minimize that.\n",
        "\n",
        "## Cost function\n",
        "Before defining our cost function, we need to define how long we are going to train and how should we define the learning rate."
      ]
    },
    {
      "cell_type": "code",
      "metadata": {
        "id": "uh1LgQsIkRe4"
      },
      "source": [
        "# Number of Epochs in our training\n",
        "numEpochs = 700\n",
        "\n",
        "# Defining our learning rate iterations (decay)\n",
        "learningRate = tf.keras.optimizers.schedules.ExponentialDecay(initial_learning_rate=0.0008,\n",
        "                                          decay_steps=trainX.shape[0],\n",
        "                                          decay_rate= 0.95,\n",
        "                                          staircase=True)"
      ],
      "execution_count": 25,
      "outputs": []
    },
    {
      "cell_type": "markdown",
      "metadata": {
        "id": "u4EEDynMkXGR"
      },
      "source": [
        "What is the cost function in our model?\n",
        "The cost function we are going to utilize is the Squared Mean Error loss function.\n",
        "\n",
        "How to minimize the cost function?\n",
        "We can't use least-squares linear regression here, so we will use gradient descent instead. Specifically, we will use batch gradient descent which calculates the gradient from all data points in the data set."
      ]
    },
    {
      "cell_type": "code",
      "metadata": {
        "id": "FBLcDLK7kd9v"
      },
      "source": [
        "#Defining our cost function - Squared Mean Error\n",
        "loss_object = tf.keras.losses.MeanSquaredLogarithmicError()\n",
        "optimizer = tf.keras.optimizers.SGD(learningRate)"
      ],
      "execution_count": 26,
      "outputs": []
    },
    {
      "cell_type": "markdown",
      "metadata": {
        "id": "iiViRYJIkmEM"
      },
      "source": [
        "We also want some additional operations to keep track of our model's efficiency over time. We can do this like so:"
      ]
    },
    {
      "cell_type": "code",
      "metadata": {
        "id": "gEtDs9Jykpji"
      },
      "source": [
        "# Accuracy metric.\n",
        "def accuracy(y_pred, y_true):\n",
        "# Predicted class is the index of the highest score in prediction vector (i.e. argmax).\n",
        "\n",
        "    correct_prediction = tf.equal(tf.argmax(y_pred, 1), tf.argmax(y_true, 1))\n",
        "\n",
        "    return tf.reduce_mean(tf.cast(correct_prediction, tf.float32))"
      ],
      "execution_count": 27,
      "outputs": []
    },
    {
      "cell_type": "markdown",
      "metadata": {
        "id": "VsSXFwLWku6d"
      },
      "source": [
        "we first wrap computation inside a GradientTape for automatic differentiation. Then we compute gradients and update W and b."
      ]
    },
    {
      "cell_type": "code",
      "metadata": {
        "id": "tIdFOWI6kx-3"
      },
      "source": [
        "# Optimization process. \n",
        "\n",
        "def run_optimization(x, y):\n",
        "    with tf.GradientTape() as g:\n",
        "        pred = logistic_regression(x)\n",
        "        loss = loss_object(pred, y)\n",
        "    gradients = g.gradient(loss, [weights, bias])\n",
        "    optimizer.apply_gradients(zip(gradients, [weights, bias]))"
      ],
      "execution_count": 28,
      "outputs": []
    },
    {
      "cell_type": "markdown",
      "metadata": {
        "id": "clqoW0jxk5h8"
      },
      "source": [
        "Now we move on to actually running our operations. We will start with the operations involved in the prediction phase (i.e. the logistic regression itself).\n",
        "\n",
        "Now we can define and run the actual training loop, like this:"
      ]
    },
    {
      "cell_type": "code",
      "metadata": {
        "colab": {
          "base_uri": "https://localhost:8080/"
        },
        "id": "XpMXW3MGk9jt",
        "outputId": "a08ddab5-b987-4306-ede1-9495f434cd2c"
      },
      "source": [
        "# Initialize reporting variables\n",
        "display_step = 10\n",
        "epoch_values = []\n",
        "accuracy_values = []\n",
        "loss_values = []\n",
        "loss = 0\n",
        "diff = 1\n",
        "# Training epochs\n",
        "for i in range(numEpochs):\n",
        "    if i > 1 and diff < .0001:\n",
        "        print(\"change in loss %g; convergence.\"%diff)\n",
        "        break\n",
        "    else:\n",
        "        # Run training step\n",
        "        run_optimization(trainX, trainY)\n",
        "        \n",
        "        # Report occasional stats\n",
        "        if i % display_step == 0:\n",
        "            # Add epoch to epoch_values\n",
        "            epoch_values.append(i)\n",
        "            \n",
        "            pred = logistic_regression(testX)\n",
        "\n",
        "            newLoss = loss_object(pred, testY)\n",
        "            # Add loss to live graphing variable\n",
        "            loss_values.append(newLoss)\n",
        "            \n",
        "            # Generate accuracy stats on test data\n",
        "            acc = accuracy(pred, testY)\n",
        "            accuracy_values.append(acc)\n",
        "            \n",
        "    \n",
        "            # Re-assign values for variables\n",
        "            diff = abs(newLoss - loss)\n",
        "            loss = newLoss\n",
        "\n",
        "            #generate print statements\n",
        "            print(\"step %d, training accuracy %g, loss %g, change in loss %g\"%(i, acc, newLoss, diff))\n",
        "\n",
        "        \n",
        "\n",
        "          \n",
        "\n",
        "# How well do we perform on held-out test data?\n",
        "print(\"final accuracy on test set: %s\" %acc.numpy())"
      ],
      "execution_count": 29,
      "outputs": [
        {
          "output_type": "stream",
          "text": [
            "step 0, training accuracy 0.3, loss 0.140862, change in loss 0.140862\n",
            "step 10, training accuracy 0.3, loss 0.14021, change in loss 0.000651449\n",
            "step 20, training accuracy 0.3, loss 0.139567, change in loss 0.000643104\n",
            "step 30, training accuracy 0.3, loss 0.138932, change in loss 0.000634715\n",
            "step 40, training accuracy 0.3, loss 0.138306, change in loss 0.000626266\n",
            "step 50, training accuracy 0.3, loss 0.137688, change in loss 0.000617787\n",
            "step 60, training accuracy 0.3, loss 0.137079, change in loss 0.000609308\n",
            "step 70, training accuracy 0.3, loss 0.136478, change in loss 0.00060077\n",
            "step 80, training accuracy 0.3, loss 0.135886, change in loss 0.000592262\n",
            "step 90, training accuracy 0.3, loss 0.135302, change in loss 0.000583738\n",
            "step 100, training accuracy 0.3, loss 0.134733, change in loss 0.000569507\n",
            "step 110, training accuracy 0.3, loss 0.134194, change in loss 0.000538617\n",
            "step 120, training accuracy 0.3, loss 0.133663, change in loss 0.000530958\n",
            "step 130, training accuracy 0.3, loss 0.13314, change in loss 0.000523299\n",
            "step 140, training accuracy 0.3, loss 0.132624, change in loss 0.00051567\n",
            "step 150, training accuracy 0.3, loss 0.132116, change in loss 0.00050807\n",
            "step 160, training accuracy 0.3, loss 0.131615, change in loss 0.0005005\n",
            "step 170, training accuracy 0.3, loss 0.131123, change in loss 0.00049296\n",
            "step 180, training accuracy 0.32, loss 0.130637, change in loss 0.000485465\n",
            "step 190, training accuracy 0.36, loss 0.130159, change in loss 0.000478014\n",
            "step 200, training accuracy 0.36, loss 0.129695, change in loss 0.000463605\n",
            "step 210, training accuracy 0.42, loss 0.129255, change in loss 0.000440374\n",
            "step 220, training accuracy 0.46, loss 0.128821, change in loss 0.000433788\n",
            "step 230, training accuracy 0.52, loss 0.128394, change in loss 0.000427276\n",
            "step 240, training accuracy 0.54, loss 0.127973, change in loss 0.000420779\n",
            "step 250, training accuracy 0.56, loss 0.127559, change in loss 0.000414357\n",
            "step 260, training accuracy 0.6, loss 0.127151, change in loss 0.000407979\n",
            "step 270, training accuracy 0.6, loss 0.126749, change in loss 0.000401676\n",
            "step 280, training accuracy 0.6, loss 0.126354, change in loss 0.000395432\n",
            "step 290, training accuracy 0.58, loss 0.125965, change in loss 0.000389233\n",
            "step 300, training accuracy 0.58, loss 0.125589, change in loss 0.000375509\n",
            "step 310, training accuracy 0.54, loss 0.125231, change in loss 0.000358477\n",
            "step 320, training accuracy 0.52, loss 0.124878, change in loss 0.000353046\n",
            "step 330, training accuracy 0.48, loss 0.12453, change in loss 0.000347704\n",
            "step 340, training accuracy 0.44, loss 0.124187, change in loss 0.000342421\n",
            "step 350, training accuracy 0.44, loss 0.12385, change in loss 0.000337191\n",
            "step 360, training accuracy 0.4, loss 0.123518, change in loss 0.000332013\n",
            "step 370, training accuracy 0.4, loss 0.123191, change in loss 0.000326924\n",
            "step 380, training accuracy 0.36, loss 0.122869, change in loss 0.000321865\n",
            "step 390, training accuracy 0.34, loss 0.122553, change in loss 0.000316881\n",
            "step 400, training accuracy 0.34, loss 0.122248, change in loss 0.000304237\n",
            "step 410, training accuracy 0.34, loss 0.121956, change in loss 0.000291981\n",
            "step 420, training accuracy 0.32, loss 0.121669, change in loss 0.000287667\n",
            "step 430, training accuracy 0.32, loss 0.121385, change in loss 0.000283398\n",
            "step 440, training accuracy 0.32, loss 0.121106, change in loss 0.000279181\n",
            "step 450, training accuracy 0.32, loss 0.120831, change in loss 0.000275008\n",
            "step 460, training accuracy 0.32, loss 0.12056, change in loss 0.000270911\n",
            "step 470, training accuracy 0.32, loss 0.120293, change in loss 0.000266872\n",
            "step 480, training accuracy 0.32, loss 0.12003, change in loss 0.000262856\n",
            "step 490, training accuracy 0.32, loss 0.119771, change in loss 0.00025893\n",
            "step 500, training accuracy 0.32, loss 0.119524, change in loss 0.000247449\n",
            "step 510, training accuracy 0.32, loss 0.119285, change in loss 0.000238851\n",
            "step 520, training accuracy 0.32, loss 0.11905, change in loss 0.000235431\n",
            "step 530, training accuracy 0.32, loss 0.118818, change in loss 0.000232086\n",
            "step 540, training accuracy 0.32, loss 0.118589, change in loss 0.00022877\n",
            "step 550, training accuracy 0.32, loss 0.118363, change in loss 0.000225469\n",
            "step 560, training accuracy 0.32, loss 0.118141, change in loss 0.000222258\n",
            "step 570, training accuracy 0.32, loss 0.117922, change in loss 0.000219099\n",
            "step 580, training accuracy 0.32, loss 0.117706, change in loss 0.000215948\n",
            "step 590, training accuracy 0.32, loss 0.117493, change in loss 0.000212863\n",
            "step 600, training accuracy 0.32, loss 0.117291, change in loss 0.000202522\n",
            "step 610, training accuracy 0.32, loss 0.117094, change in loss 0.000196636\n",
            "step 620, training accuracy 0.32, loss 0.1169, change in loss 0.000193983\n",
            "step 630, training accuracy 0.32, loss 0.116709, change in loss 0.000191323\n",
            "step 640, training accuracy 0.32, loss 0.11652, change in loss 0.000188753\n",
            "step 650, training accuracy 0.32, loss 0.116334, change in loss 0.000186183\n",
            "step 660, training accuracy 0.32, loss 0.11615, change in loss 0.000183679\n",
            "step 670, training accuracy 0.32, loss 0.115969, change in loss 0.000181176\n",
            "step 680, training accuracy 0.32, loss 0.11579, change in loss 0.000178725\n",
            "step 690, training accuracy 0.32, loss 0.115614, change in loss 0.000176311\n",
            "final accuracy on test set: 0.32\n"
          ],
          "name": "stdout"
        }
      ]
    },
    {
      "cell_type": "markdown",
      "metadata": {
        "id": "rCKHkXASldis"
      },
      "source": [
        "Why don't we plot the loss to see how it behaves?"
      ]
    },
    {
      "cell_type": "code",
      "metadata": {
        "colab": {
          "base_uri": "https://localhost:8080/",
          "height": 333
        },
        "id": "MLIhOu3-lfeb",
        "outputId": "346a5501-aa09-4f3f-8ebb-f4fecd2d9252"
      },
      "source": [
        "%matplotlib inline\n",
        "import numpy as np\n",
        "import matplotlib.pyplot as plt\n",
        "plt.plot([np.mean(loss_values[i-50:i]) for i in range(len(loss_values))])\n",
        "plt.show()"
      ],
      "execution_count": 30,
      "outputs": [
        {
          "output_type": "stream",
          "text": [
            "/usr/local/lib/python3.7/dist-packages/numpy/core/fromnumeric.py:3373: RuntimeWarning: Mean of empty slice.\n",
            "  out=out, **kwargs)\n",
            "/usr/local/lib/python3.7/dist-packages/numpy/core/_methods.py:170: RuntimeWarning: invalid value encountered in double_scalars\n",
            "  ret = ret.dtype.type(ret / rcount)\n"
          ],
          "name": "stderr"
        },
        {
          "output_type": "display_data",
          "data": {
            "image/png": "[encoded data removed]",
            "text/plain": [
              "<Figure size 432x288 with 1 Axes>"
            ]
          },
          "metadata": {
            "tags": [],
            "needs_background": "light"
          }
        }
      ]
    },
    {
      "cell_type": "markdown",
      "metadata": {
        "id": "DhtwQU8gliuL"
      },
      "source": [
        "Try changing the parameters such as the length of training, and maybe some operations to see how the model behaves. Does it take much longer? How is the performance?\n",
        "\n",
        "---\n"
      ]
    }
  ]
}