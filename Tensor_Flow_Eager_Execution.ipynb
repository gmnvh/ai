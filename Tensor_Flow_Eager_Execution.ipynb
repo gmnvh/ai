{
  "nbformat": 4,
  "nbformat_minor": 0,
  "metadata": {
    "colab": {
      "name": "Tensor Flow Eager Execution.ipynb",
      "provenance": [],
      "authorship_tag": "ABX9TyMDDDGkLhUuRFnBQvR0EwiR",
      "include_colab_link": true
    },
    "kernelspec": {
      "name": "python3",
      "display_name": "Python 3"
    },
    "language_info": {
      "name": "python"
    }
  },
  "cells": [
    {
      "cell_type": "markdown",
      "metadata": {
        "id": "view-in-github",
        "colab_type": "text"
      },
      "source": [
        "<a href=\"https://colab.research.google.com/github/gmnvh/ai/blob/main/Tensor_Flow_Eager_Execution.ipynb\" target=\"_parent\"><img src=\"https://colab.research.google.com/assets/colab-badge.svg\" alt=\"Open In Colab\"/></a>"
      ]
    },
    {
      "cell_type": "markdown",
      "metadata": {
        "id": "KWQBggVVnJRA"
      },
      "source": [
        "# Eager Execution in TensorFlow 2.X\n",
        "\n",
        "\n",
        "## Objectives\n",
        "After completing this lab you will be able to:\n",
        "\n",
        "* Understand the impact of eager execution and the need to enable it"
      ]
    },
    {
      "cell_type": "markdown",
      "metadata": {
        "id": "EuMqNe1anSCM"
      },
      "source": [
        "---\n",
        "\n",
        "## Eager Execution\n",
        "\n",
        "TensorFlow's eager execution is an imperative programming environment that evaluates operations immediately, without building graphs, operations return concrete values instead of constructing a computational graph to run later. This makes it easy to get started with TensorFlow and debug models.\n",
        "\n",
        "With TensorFlow 2.x, Eager Execution is enabled by default. This allows TensorFlow code to be executed and evaluated line by line. Before version 2.x was released, every graph had to be run wihthin a TensorFlow session. This only allowed for the entire graph to be run all at once. This made it hard to debug the computation graph.\n",
        "\n",
        "Eager execution is a flexible machine learning platform for research and experimentation, providing:\n",
        "\n",
        "* **An intuitive interface**-Structure your code naturally and use Python data structures. Quickly iterate on small models and small data.\n",
        "* **Easier debugging**- Execute operations directly to inspect code line by line and test changes. Use standard Python debugging tools for immediate error reporting.\n",
        "* **Natural control flow**—Use Python control flow instead of graph control flow, simplifying the specification of dynamic models.\n",
        "\n",
        "As I mentioned above, in Tensorflow 2.x, eager execution is enabled by default. To verify that please run the below code."
      ]
    },
    {
      "cell_type": "code",
      "metadata": {
        "colab": {
          "base_uri": "https://localhost:8080/"
        },
        "id": "OhG7deRAnDbz",
        "outputId": "2b1f83a4-e3d2-40b5-f8ed-07481016970e"
      },
      "source": [
        "import tensorflow as tf\n",
        "\n",
        "tf.executing_eagerly()"
      ],
      "execution_count": 2,
      "outputs": [
        {
          "output_type": "execute_result",
          "data": {
            "text/plain": [
              "True"
            ]
          },
          "metadata": {
            "tags": []
          },
          "execution_count": 2
        }
      ]
    },
    {
      "cell_type": "markdown",
      "metadata": {
        "id": "XoYdx3lWo69T"
      },
      "source": [
        "Now you can run TensorFlow operations and the results will return immediately:\n",
        "\n",
        "But first let me show you how things get done without the eager execution in tensorflow.\n",
        "\n",
        "## Tensorflow Operations Without Eager Execution Mode\n",
        "\n",
        "So, there is a **disable_eager_execution()** function in TensorFlow 2.x. You can call the function like this:"
      ]
    },
    {
      "cell_type": "code",
      "metadata": {
        "id": "SPPw729aoObP"
      },
      "source": [
        "from tensorflow.python.framework.ops import disable_eager_execution\n",
        "disable_eager_execution()"
      ],
      "execution_count": 3,
      "outputs": []
    },
    {
      "cell_type": "markdown",
      "metadata": {
        "id": "I3tLD_5GpOBF"
      },
      "source": [
        "#### Note: This function can only be called at the beginning before any Graphs, Ops, or Tensors have been  created.\n",
        "\n",
        "Now, verify that the eager execution is disabled or not by running the below code."
      ]
    },
    {
      "cell_type": "code",
      "metadata": {
        "colab": {
          "base_uri": "https://localhost:8080/"
        },
        "id": "wQE_9GArpSzB",
        "outputId": "5ec11727-a60a-45c9-f029-653ba79c5b49"
      },
      "source": [
        "tf.executing_eagerly()"
      ],
      "execution_count": 4,
      "outputs": [
        {
          "output_type": "execute_result",
          "data": {
            "text/plain": [
              "False"
            ]
          },
          "metadata": {
            "tags": []
          },
          "execution_count": 4
        }
      ]
    },
    {
      "cell_type": "markdown",
      "metadata": {
        "id": "HJr9BkNUpaVJ"
      },
      "source": [
        "As you can see **False** in the output that means it is disabled now.\n",
        "\n",
        "Just execute the next cell. You will notice that we've created an object **a** of type **tensorflow.python.framework.ops.Tensor**"
      ]
    },
    {
      "cell_type": "code",
      "metadata": {
        "colab": {
          "base_uri": "https://localhost:8080/"
        },
        "id": "fH01Q1VPpgT1",
        "outputId": "baa7fb2e-bd3c-4b17-fc73-d0ae51d8edf4"
      },
      "source": [
        "import numpy as np\n",
        "a = tf.constant(np.array([1., 2., 3.]))\n",
        "type(a)"
      ],
      "execution_count": 5,
      "outputs": [
        {
          "output_type": "execute_result",
          "data": {
            "text/plain": [
              "tensorflow.python.framework.ops.Tensor"
            ]
          },
          "metadata": {
            "tags": []
          },
          "execution_count": 5
        }
      ]
    },
    {
      "cell_type": "markdown",
      "metadata": {
        "id": "45uXTrD8plI_"
      },
      "source": [
        "Let's create another Tensor **b** and apply the dot product between them. This gives us **c**"
      ]
    },
    {
      "cell_type": "code",
      "metadata": {
        "colab": {
          "base_uri": "https://localhost:8080/"
        },
        "id": "DMP4xOR_pn4B",
        "outputId": "57b9665f-75b6-4651-980d-14a43108f09d"
      },
      "source": [
        "b = tf.constant(np.array([4.,5.,6.]))\n",
        "c = tf.tensordot(a, b, 1)\n",
        "type(c)"
      ],
      "execution_count": 6,
      "outputs": [
        {
          "output_type": "execute_result",
          "data": {
            "text/plain": [
              "tensorflow.python.framework.ops.Tensor"
            ]
          },
          "metadata": {
            "tags": []
          },
          "execution_count": 6
        }
      ]
    },
    {
      "cell_type": "code",
      "metadata": {
        "colab": {
          "base_uri": "https://localhost:8080/"
        },
        "id": "r4D9-lGZprcL",
        "outputId": "9b4d6468-cf81-4b8a-c294-31ab3381c5e4"
      },
      "source": [
        "print(c)"
      ],
      "execution_count": 7,
      "outputs": [
        {
          "output_type": "stream",
          "text": [
            "Tensor(\"Tensordot:0\", shape=(), dtype=float64)\n"
          ],
          "name": "stdout"
        }
      ]
    },
    {
      "cell_type": "markdown",
      "metadata": {
        "id": "d1GUZx1ipwAA"
      },
      "source": [
        "Note that **c** is a **tensorflow.python.framework.ops.Tensor** as well. So any node of the execution graph resembles a Tensor type. **But so far not a single computation happened**. You need to execute the graph. You can pass any graph or subgraph to the TensorFlow runtime for execution. Each TensorFlow graph runs within a TensorFlow Session, therefore we need to create it first:\n",
        "\n",
        "**Note:** Session can be accessed via **tf.compat.v1.Session()** in Tensorflow 2.x."
      ]
    },
    {
      "cell_type": "code",
      "metadata": {
        "colab": {
          "base_uri": "https://localhost:8080/"
        },
        "id": "PFieHH44p4xN",
        "outputId": "518eee45-9e21-4e9b-8f8e-09ee8ba67ac2"
      },
      "source": [
        "session = tf.compat.v1.Session()\n",
        "output = session.run(c)\n",
        "session.close()\n",
        "print(output)"
      ],
      "execution_count": 8,
      "outputs": [
        {
          "output_type": "stream",
          "text": [
            "32.0\n"
          ],
          "name": "stdout"
        }
      ]
    },
    {
      "cell_type": "markdown",
      "metadata": {
        "id": "nTM8p0Ezp-VV"
      },
      "source": [
        "Now you see the correct result of 32. But the problem is that debugging is pretty hard if you can only run complete graphs.\n",
        "\n",
        "So let's actually re-enable the **eager execution**."
      ]
    },
    {
      "cell_type": "markdown",
      "metadata": {
        "id": "fdNGtxuXqEPL"
      },
      "source": [
        "## Tensorflow Operations With Eager Execution Mode\n",
        "\n",
        "### IMPORTANT! => Please don't forget restart the kernel by clicking on \"Kernel\"->\"Restart\" so that the changes take effect.\n",
        "\n",
        "**Enable or Disable Eager execution has to happen on program startup. This is the reason we have to restart the kernel.** \n",
        "\n",
        "Import the required libraries again."
      ]
    },
    {
      "cell_type": "code",
      "metadata": {
        "id": "LvllUlhSqthq"
      },
      "source": [
        "import tensorflow as tf\n",
        "import numpy as np"
      ],
      "execution_count": 1,
      "outputs": []
    },
    {
      "cell_type": "markdown",
      "metadata": {
        "id": "Z8idkhqPqtBE"
      },
      "source": [
        "Run the below command to re-enable the eager execution."
      ]
    },
    {
      "cell_type": "code",
      "metadata": {
        "id": "sjg_bX9AqUK8"
      },
      "source": [
        "from tensorflow.python.framework.ops import enable_eager_execution\n",
        "enable_eager_execution()"
      ],
      "execution_count": 2,
      "outputs": []
    },
    {
      "cell_type": "markdown",
      "metadata": {
        "id": "EeW1kd-GrJ5I"
      },
      "source": [
        "Now you can run TensorFlow operations and the results will return immediately:"
      ]
    },
    {
      "cell_type": "code",
      "metadata": {
        "colab": {
          "base_uri": "https://localhost:8080/"
        },
        "id": "FAO4ZmCCrLzQ",
        "outputId": "93762052-1074-42a1-c837-316bd5f94758"
      },
      "source": [
        "x = [[4]]\n",
        "m = tf.matmul(x, x)\n",
        "print(\"Result, {}\".format(m))"
      ],
      "execution_count": 3,
      "outputs": [
        {
          "output_type": "stream",
          "text": [
            "Result, [[16]]\n"
          ],
          "name": "stdout"
        }
      ]
    },
    {
      "cell_type": "markdown",
      "metadata": {
        "id": "bcYd1uJ4rVYn"
      },
      "source": [
        "Enabling eager execution changes how TensorFlow operations behave—now they immediately evaluate and return their values to Python.\n",
        "\n",
        "Since there isn't a computational graph to build and run later in a session, it's easy to inspect results using print() or a debugger."
      ]
    },
    {
      "cell_type": "code",
      "metadata": {
        "colab": {
          "base_uri": "https://localhost:8080/"
        },
        "id": "iIQS_17-rZyL",
        "outputId": "e5110fd4-58dc-4d04-bf85-848a1b4d3b8e"
      },
      "source": [
        "a = tf.constant(np.array([1., 2., 3.]))\n",
        "type(a)"
      ],
      "execution_count": 4,
      "outputs": [
        {
          "output_type": "execute_result",
          "data": {
            "text/plain": [
              "tensorflow.python.framework.ops.EagerTensor"
            ]
          },
          "metadata": {
            "tags": []
          },
          "execution_count": 4
        }
      ]
    },
    {
      "cell_type": "markdown",
      "metadata": {
        "id": "cSObF0qUrc1P"
      },
      "source": [
        "So the very same code created a different type of object. So now **a** is of type **tensorflow.python.framework.ops.EagerTensor**. This is great, because without changing code we obtain a tensor object which allows us to have a look inside, without execting a graph in a session:\n"
      ]
    },
    {
      "cell_type": "code",
      "metadata": {
        "colab": {
          "base_uri": "https://localhost:8080/"
        },
        "id": "ClXaKd1Prh4M",
        "outputId": "f6e922a6-803a-48a6-afee-cbda2e517446"
      },
      "source": [
        "print(a.numpy())"
      ],
      "execution_count": 5,
      "outputs": [
        {
          "output_type": "stream",
          "text": [
            "[1. 2. 3.]\n"
          ],
          "name": "stdout"
        }
      ]
    },
    {
      "cell_type": "markdown",
      "metadata": {
        "id": "z7RS83uWrlkz"
      },
      "source": [
        "Isn't this amazing? So from now on we can threat Tensors like ordinary python objects, work with them as usual, insert debug statements at any point or even use a debugger. So let's continue this example:"
      ]
    },
    {
      "cell_type": "code",
      "metadata": {
        "colab": {
          "base_uri": "https://localhost:8080/"
        },
        "id": "C1Orybj_rpI-",
        "outputId": "1b768889-885a-4eeb-f4ba-5ac31fc671cb"
      },
      "source": [
        "b = tf.constant(np.array([4.,5.,6.]))\n",
        "c = tf.tensordot(a, b,1)\n",
        "type(c)"
      ],
      "execution_count": 6,
      "outputs": [
        {
          "output_type": "execute_result",
          "data": {
            "text/plain": [
              "tensorflow.python.framework.ops.EagerTensor"
            ]
          },
          "metadata": {
            "tags": []
          },
          "execution_count": 6
        }
      ]
    },
    {
      "cell_type": "markdown",
      "metadata": {
        "id": "pHtEEMgUrrjM"
      },
      "source": [
        "Again, **c** is an **tensorflow.python.framework.ops.EagerTensor** object which can be directly read:"
      ]
    },
    {
      "cell_type": "code",
      "metadata": {
        "colab": {
          "base_uri": "https://localhost:8080/"
        },
        "id": "gamaChYGrtZU",
        "outputId": "3dbcbe87-7520-4d33-e1c1-4626f4b0c1da"
      },
      "source": [
        "print(c.numpy())"
      ],
      "execution_count": 7,
      "outputs": [
        {
          "output_type": "stream",
          "text": [
            "32.0\n"
          ],
          "name": "stdout"
        }
      ]
    },
    {
      "cell_type": "markdown",
      "metadata": {
        "id": "ixe5iaNOrvWQ"
      },
      "source": [
        "Without creating a session or a graph we obtained the result of the defined computation."
      ]
    },
    {
      "cell_type": "markdown",
      "metadata": {
        "id": "2Zt_NOxor1G0"
      },
      "source": [
        "## Dynamic Control Flow\n",
        "\n",
        "A major benefit of eager execution is that all the functionality of the host language is available while your model is executing. So, for example, it is easy to write [fizzbuzz](https://en.wikipedia.org/wiki/Fizz_buzz?cm_mmc=Email_Newsletter-_-Developer_Ed%2BTech-_-WW_WW-_-SkillsNetwork-Courses-IBMDeveloperSkillsNetwork-DL0120EN-SkillsNetwork-20629446&cm_mmca1=000026UJ&cm_mmca2=10006555&cm_mmca3=M12345678&cvosrc=email.Newsletter.M12345678&cvo_campaign=000026UJ&cm_mmc=Email_Newsletter-_-Developer_Ed%2BTech-_-WW_WW-_-SkillsNetwork-Courses-IBMDeveloperSkillsNetwork-DL0120EN-SkillsNetwork-20629446&cm_mmca1=000026UJ&cm_mmca2=10006555&cm_mmca3=M12345678&cvosrc=email.Newsletter.M12345678&cvo_campaign=000026UJ):"
      ]
    },
    {
      "cell_type": "code",
      "metadata": {
        "id": "DaqucsE2r6Ev"
      },
      "source": [
        "def fizzbuzz(max_num):\n",
        "  counter = tf.constant(0)\n",
        "  max_num = tf.convert_to_tensor(max_num)\n",
        "  for num in range(1, max_num.numpy()+1):\n",
        "    num = tf.constant(num)\n",
        "    if int(num % 3) == 0 and int(num % 5) == 0:\n",
        "      print('FizzBuzz')\n",
        "    elif int(num % 3) == 0:\n",
        "      print('Fizz')\n",
        "    elif int(num % 5) == 0:\n",
        "      print('Buzz')\n",
        "    else:\n",
        "      print(num.numpy())\n",
        "    counter += 1"
      ],
      "execution_count": 8,
      "outputs": []
    },
    {
      "cell_type": "code",
      "metadata": {
        "colab": {
          "base_uri": "https://localhost:8080/"
        },
        "id": "vWMuVrJMr9Mr",
        "outputId": "b86cc3e5-375c-4f8c-b76d-9e1c734b0463"
      },
      "source": [
        "fizzbuzz(15)"
      ],
      "execution_count": 9,
      "outputs": [
        {
          "output_type": "stream",
          "text": [
            "1\n",
            "2\n",
            "Fizz\n",
            "4\n",
            "Buzz\n",
            "Fizz\n",
            "7\n",
            "8\n",
            "Fizz\n",
            "Buzz\n",
            "11\n",
            "Fizz\n",
            "13\n",
            "14\n",
            "FizzBuzz\n"
          ],
          "name": "stdout"
        }
      ]
    },
    {
      "cell_type": "markdown",
      "metadata": {
        "id": "AOUpndmhsCAx"
      },
      "source": [
        "It prints these values at runtime. It behaves just like any other Python code. It is direct and intuitive. We can use pure Python if, while, and for in the control flow. So that's it for now, stay tuned and have fun."
      ]
    }
  ]
}