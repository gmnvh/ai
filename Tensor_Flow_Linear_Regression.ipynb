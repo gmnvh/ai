{
  "nbformat": 4,
  "nbformat_minor": 0,
  "metadata": {
    "colab": {
      "name": "Tensor Flow Linear Regression.ipynb",
      "provenance": [],
      "authorship_tag": "ABX9TyN7N0vjn+2NlFlmSMtXyyoU",
      "include_colab_link": true
    },
    "kernelspec": {
      "name": "python3",
      "display_name": "Python 3"
    },
    "language_info": {
      "name": "python"
    }
  },
  "cells": [
    {
      "cell_type": "markdown",
      "metadata": {
        "id": "view-in-github",
        "colab_type": "text"
      },
      "source": [
        "<a href=\"https://colab.research.google.com/github/gmnvh/ai/blob/main/Tensor_Flow_Linear_Regression.ipynb\" target=\"_parent\"><img src=\"https://colab.research.google.com/assets/colab-badge.svg\" alt=\"Open In Colab\"/></a>"
      ]
    },
    {
      "cell_type": "markdown",
      "metadata": {
        "id": "jL92P8JRYJV-"
      },
      "source": [
        "# Linear regression with TensorFlow\n",
        "\n",
        "## Objective for this Notebook\n",
        "\n",
        "1. What is Linear Regression\n",
        "2. Linear Regression with TensorFlow.\n",
        "\n",
        "---\n",
        "\n",
        "## Linear Regression\n",
        "\n",
        "Defining a linear regression in simple terms, is the approximation of a linear model used to describe the relationship between two or more variables. In a simple linear regression there are two variables, the dependent variable, which can be seen as the \"state\" or \"final goal\" that we study and try to predict, and the independent variables, also known as explanatory variables, which can be seen as the \"causes\" of the \"states\".\n",
        "\n",
        "When more than one independent variable is present the process is called multiple linear regression.\n",
        "When multiple dependent variables are predicted the process is known as multivariate linear regression.\n",
        "\n",
        "The equation of a simple linear model is\n",
        "\n",
        "𝑌=𝑎𝑋+𝑏\n",
        " \n",
        "Where Y is the dependent variable and X is the independent variable, and a and b being the parameters we adjust. a is known as \"slope\" or \"gradient\" and b is the \"intercept\". You can interpret this equation as Y being a function of X, or Y being dependent on X.\n",
        "\n",
        "If you plot the model, you will see it is a line, and by adjusting the \"slope\" parameter you will change the angle between the line and the independent variable axis, and the \"intercept parameter\" will affect where it crosses the dependent variable's axis.\n",
        "\n",
        "Let's first import the required packages:"
      ]
    },
    {
      "cell_type": "code",
      "metadata": {
        "id": "OWmGNrbxXIjI",
        "colab": {
          "base_uri": "https://localhost:8080/",
          "height": 35
        },
        "outputId": "8c4eccb5-989c-43fd-da8f-a49625954f6b"
      },
      "source": [
        "import matplotlib.pyplot as plt\n",
        "import pandas as pd\n",
        "import pylab as pl\n",
        "import numpy as np\n",
        "import tensorflow as tf\n",
        "import matplotlib.patches as mpatches\n",
        "import matplotlib.pyplot as plt\n",
        "%matplotlib inline\n",
        "plt.rcParams['figure.figsize'] = (10, 6)\n",
        "\n",
        "tf.__version__"
      ],
      "execution_count": 3,
      "outputs": [
        {
          "output_type": "execute_result",
          "data": {
            "application/vnd.google.colaboratory.intrinsic+json": {
              "type": "string"
            },
            "text/plain": [
              "'2.4.1'"
            ]
          },
          "metadata": {
            "tags": []
          },
          "execution_count": 3
        }
      ]
    },
    {
      "cell_type": "markdown",
      "metadata": {
        "id": "FtxRQbvDfsP0"
      },
      "source": [
        "Let's define the independent variable:"
      ]
    },
    {
      "cell_type": "code",
      "metadata": {
        "colab": {
          "base_uri": "https://localhost:8080/"
        },
        "id": "kzTTG0Dtfto-",
        "outputId": "e1ffe2a9-5807-4675-d3cc-3578a528547e"
      },
      "source": [
        "X = np.arange(0.0, 5.0, 0.1)\n",
        "tf.print(X)"
      ],
      "execution_count": 5,
      "outputs": [
        {
          "output_type": "stream",
          "text": [
            "array([0. , 0.1, 0.2, 0.3, 0.4, 0.5, 0.6, 0.7, 0.8, 0.9, 1. , 1.1, 1.2,\n",
            "       1.3, 1.4, 1.5, 1.6, 1.7, 1.8, 1.9, 2. , 2.1, 2.2, 2.3, 2.4, 2.5,\n",
            "       2.6, 2.7, 2.8, 2.9, 3. , 3.1, 3.2, 3.3, 3.4, 3.5, 3.6, 3.7, 3.8,\n",
            "       3.9, 4. , 4.1, 4.2, 4.3, 4.4, 4.5, 4.6, 4.7, 4.8, 4.9])\n"
          ],
          "name": "stdout"
        }
      ]
    },
    {
      "cell_type": "code",
      "metadata": {
        "colab": {
          "base_uri": "https://localhost:8080/",
          "height": 388
        },
        "id": "kTAGgSvpf9WO",
        "outputId": "eaba8e43-beea-4675-bf6f-ded00d5428ba"
      },
      "source": [
        "##You can adjust the slope and intercept to verify the changes in the graph\n",
        "a = 1\n",
        "b = 0\n",
        "\n",
        "Y= a * X + b \n",
        "\n",
        "plt.plot(X, Y) \n",
        "plt.ylabel('Dependent Variable')\n",
        "plt.xlabel('Independent Variable')\n",
        "plt.show()"
      ],
      "execution_count": 7,
      "outputs": [
        {
          "output_type": "display_data",
          "data": {
            "image/png": "[encoded data removed]",
            "text/plain": [
              "<Figure size 720x432 with 1 Axes>"
            ]
          },
          "metadata": {
            "tags": [],
            "needs_background": "light"
          }
        }
      ]
    },
    {
      "cell_type": "markdown",
      "metadata": {
        "id": "hD8VcJSvgmkv"
      },
      "source": [
        "OK... but how can we see this concept of linear relations with a more meaningful point of view?\n",
        "\n",
        "Simple linear relations were used to try to describe and quantify many observable physical phenomena, the easiest to understand are speed and distance traveled:\n",
        "\n",
        "$𝐷𝑖𝑠𝑡𝑎𝑛𝑐𝑒𝑇𝑟𝑎𝑣𝑒𝑙𝑒𝑑=𝑆𝑝𝑒𝑒𝑑 * 𝑇𝑖𝑚𝑒+𝐼𝑛𝑖𝑡𝑖𝑎𝑙𝐷𝑖𝑠𝑡𝑎𝑛𝑐𝑒$\n",
        "$𝑆𝑝𝑒𝑒𝑑=𝐴𝑐𝑐𝑒𝑙𝑒𝑟𝑎𝑡𝑖𝑜𝑛*𝑇𝑖𝑚𝑒+𝐼𝑛𝑖𝑡𝑖𝑎𝑙𝑆𝑝𝑒𝑒𝑑$\n",
        "\n",
        "They are also used to describe properties of different materials:\n",
        "\n",
        "$𝐹𝑜𝑟𝑐𝑒=𝐷𝑒𝑓𝑜𝑟𝑚𝑎𝑡𝑖𝑜𝑛*𝑆𝑡𝑖𝑓𝑓𝑛𝑒𝑠𝑠$\n",
        "$𝐻𝑒𝑎𝑡𝑇𝑟𝑎𝑛𝑠𝑓𝑒𝑟𝑒𝑑=𝑇𝑒𝑚𝑝𝑒𝑟𝑎𝑡𝑢𝑟𝑒𝐷𝑖𝑓𝑓𝑒𝑟𝑒𝑛𝑐𝑒*𝑇ℎ𝑒𝑟𝑚𝑎𝑙𝐶𝑜𝑛𝑑𝑢𝑐𝑡𝑖𝑣𝑖𝑡𝑦$\n",
        "$𝐸𝑙𝑒𝑐𝑡𝑟𝑖𝑐𝑎𝑙𝑇𝑒𝑛𝑠𝑖𝑜𝑛(𝑉𝑜𝑙𝑡𝑎𝑔𝑒)=𝐸𝑙𝑒𝑐𝑡𝑟𝑖𝑐𝑎𝑙𝐶𝑢𝑟𝑟𝑒𝑛𝑡*𝑅𝑒𝑠𝑖𝑠𝑡𝑎𝑛𝑐𝑒$\n",
        "$𝑀𝑎𝑠𝑠=𝑉𝑜𝑙𝑢𝑚𝑒*𝐷𝑒𝑛𝑠𝑖𝑡𝑦$\n",
        "\n",
        "When we perform an experiment and gather the data, or if we already have a dataset and we want to perform a linear regression, what we will do is adjust a simple linear model to the dataset, we adjust the \"slope\" and \"intercept\" parameters to the data the best way possible, because the closer the model comes to describing each ocurrence, the better it will be at representing them.\n",
        "\n",
        "So how is this \"regression\" performed?\n",
        "\n",
        "---\n",
        "\n",
        "## Linear Regression with TensorFlow\n",
        "A simple example of a linear function can help us understand the basic mechanism behind TensorFlow.\n",
        "For the first part we will use a sample dataset, and then we'll use TensorFlow to adjust and get the right parameters. We download a dataset that is related to fuel consumption and Carbon dioxide emission of cars."
      ]
    },
    {
      "cell_type": "code",
      "metadata": {
        "colab": {
          "base_uri": "https://localhost:8080/"
        },
        "id": "ogmkzfgrhX4O",
        "outputId": "3734a865-a004-44cc-9ce8-71d3881425a5"
      },
      "source": [
        "!wget -O FuelConsumption.csv https://s3-api.us-geo.objectstorage.softlayer.net/cf-courses-data/CognitiveClass/ML0101ENv3/labs/FuelConsumptionCo2.csv"
      ],
      "execution_count": 8,
      "outputs": [
        {
          "output_type": "stream",
          "text": [
            "--2021-04-15 17:13:25--  https://s3-api.us-geo.objectstorage.softlayer.net/cf-courses-data/CognitiveClass/ML0101ENv3/labs/FuelConsumptionCo2.csv\n",
            "Resolving s3-api.us-geo.objectstorage.softlayer.net (s3-api.us-geo.objectstorage.softlayer.net)... 67.228.254.196\n",
            "Connecting to s3-api.us-geo.objectstorage.softlayer.net (s3-api.us-geo.objectstorage.softlayer.net)|67.228.254.196|:443... connected.\n",
            "HTTP request sent, awaiting response... 200 OK\n",
            "Length: 72629 (71K) [text/csv]\n",
            "Saving to: ‘FuelConsumption.csv’\n",
            "\n",
            "FuelConsumption.csv 100%[===================>]  70.93K   196KB/s    in 0.4s    \n",
            "\n",
            "2021-04-15 17:13:26 (196 KB/s) - ‘FuelConsumption.csv’ saved [72629/72629]\n",
            "\n"
          ],
          "name": "stdout"
        }
      ]
    },
    {
      "cell_type": "markdown",
      "metadata": {
        "id": "PjRpSTdGh2ss"
      },
      "source": [
        "## Understanding the Data\n",
        "FuelConsumption.csv:\n",
        "\n",
        "We have downloaded a fuel consumption dataset, FuelConsumption.csv, which contains model-specific fuel consumption ratings and estimated carbon dioxide emissions for new light-duty vehicles for retail sale in Canada. \n",
        "\n",
        "* MODELYEAR e.g. 2014\n",
        "* MAKE e.g. Acura\n",
        "* MODEL e.g. ILX\n",
        "* VEHICLE CLASS e.g. SUV\n",
        "* ENGINE SIZE e.g. 4.7\n",
        "* CYLINDERS e.g 6\n",
        "* TRANSMISSION e.g. A6\n",
        "* FUEL CONSUMPTION in CITY(L/100 km) e.g. 9.9\n",
        "* FUEL CONSUMPTION in HWY (L/100 km) e.g. 8.9\n",
        "* FUEL CONSUMPTION COMB (L/100 km) e.g. 9.2\n",
        "* CO2 EMISSIONS (g/km) e.g. 182 --> low --> 0"
      ]
    },
    {
      "cell_type": "code",
      "metadata": {
        "colab": {
          "base_uri": "https://localhost:8080/",
          "height": 275
        },
        "id": "Wt7MEd7XiS6Z",
        "outputId": "42d8ac27-e767-4bc1-96ff-4bb751a76331"
      },
      "source": [
        "df = pd.read_csv(\"FuelConsumption.csv\")\n",
        "\n",
        "# take a look at the dataset\n",
        "df.head()"
      ],
      "execution_count": 9,
      "outputs": [
        {
          "output_type": "execute_result",
          "data": {
            "text/html": [
              "<div>\n",
              "<style scoped>\n",
              "    .dataframe tbody tr th:only-of-type {\n",
              "        vertical-align: middle;\n",
              "    }\n",
              "\n",
              "    .dataframe tbody tr th {\n",
              "        vertical-align: top;\n",
              "    }\n",
              "\n",
              "    .dataframe thead th {\n",
              "        text-align: right;\n",
              "    }\n",
              "</style>\n",
              "<table border=\"1\" class=\"dataframe\">\n",
              "  <thead>\n",
              "    <tr style=\"text-align: right;\">\n",
              "      <th></th>\n",
              "      <th>MODELYEAR</th>\n",
              "      <th>MAKE</th>\n",
              "      <th>MODEL</th>\n",
              "      <th>VEHICLECLASS</th>\n",
              "      <th>ENGINESIZE</th>\n",
              "      <th>CYLINDERS</th>\n",
              "      <th>TRANSMISSION</th>\n",
              "      <th>FUELTYPE</th>\n",
              "      <th>FUELCONSUMPTION_CITY</th>\n",
              "      <th>FUELCONSUMPTION_HWY</th>\n",
              "      <th>FUELCONSUMPTION_COMB</th>\n",
              "      <th>FUELCONSUMPTION_COMB_MPG</th>\n",
              "      <th>CO2EMISSIONS</th>\n",
              "    </tr>\n",
              "  </thead>\n",
              "  <tbody>\n",
              "    <tr>\n",
              "      <th>0</th>\n",
              "      <td>2014</td>\n",
              "      <td>ACURA</td>\n",
              "      <td>ILX</td>\n",
              "      <td>COMPACT</td>\n",
              "      <td>2.0</td>\n",
              "      <td>4</td>\n",
              "      <td>AS5</td>\n",
              "      <td>Z</td>\n",
              "      <td>9.9</td>\n",
              "      <td>6.7</td>\n",
              "      <td>8.5</td>\n",
              "      <td>33</td>\n",
              "      <td>196</td>\n",
              "    </tr>\n",
              "    <tr>\n",
              "      <th>1</th>\n",
              "      <td>2014</td>\n",
              "      <td>ACURA</td>\n",
              "      <td>ILX</td>\n",
              "      <td>COMPACT</td>\n",
              "      <td>2.4</td>\n",
              "      <td>4</td>\n",
              "      <td>M6</td>\n",
              "      <td>Z</td>\n",
              "      <td>11.2</td>\n",
              "      <td>7.7</td>\n",
              "      <td>9.6</td>\n",
              "      <td>29</td>\n",
              "      <td>221</td>\n",
              "    </tr>\n",
              "    <tr>\n",
              "      <th>2</th>\n",
              "      <td>2014</td>\n",
              "      <td>ACURA</td>\n",
              "      <td>ILX HYBRID</td>\n",
              "      <td>COMPACT</td>\n",
              "      <td>1.5</td>\n",
              "      <td>4</td>\n",
              "      <td>AV7</td>\n",
              "      <td>Z</td>\n",
              "      <td>6.0</td>\n",
              "      <td>5.8</td>\n",
              "      <td>5.9</td>\n",
              "      <td>48</td>\n",
              "      <td>136</td>\n",
              "    </tr>\n",
              "    <tr>\n",
              "      <th>3</th>\n",
              "      <td>2014</td>\n",
              "      <td>ACURA</td>\n",
              "      <td>MDX 4WD</td>\n",
              "      <td>SUV - SMALL</td>\n",
              "      <td>3.5</td>\n",
              "      <td>6</td>\n",
              "      <td>AS6</td>\n",
              "      <td>Z</td>\n",
              "      <td>12.7</td>\n",
              "      <td>9.1</td>\n",
              "      <td>11.1</td>\n",
              "      <td>25</td>\n",
              "      <td>255</td>\n",
              "    </tr>\n",
              "    <tr>\n",
              "      <th>4</th>\n",
              "      <td>2014</td>\n",
              "      <td>ACURA</td>\n",
              "      <td>RDX AWD</td>\n",
              "      <td>SUV - SMALL</td>\n",
              "      <td>3.5</td>\n",
              "      <td>6</td>\n",
              "      <td>AS6</td>\n",
              "      <td>Z</td>\n",
              "      <td>12.1</td>\n",
              "      <td>8.7</td>\n",
              "      <td>10.6</td>\n",
              "      <td>27</td>\n",
              "      <td>244</td>\n",
              "    </tr>\n",
              "  </tbody>\n",
              "</table>\n",
              "</div>"
            ],
            "text/plain": [
              "   MODELYEAR   MAKE  ... FUELCONSUMPTION_COMB_MPG CO2EMISSIONS\n",
              "0       2014  ACURA  ...                       33          196\n",
              "1       2014  ACURA  ...                       29          221\n",
              "2       2014  ACURA  ...                       48          136\n",
              "3       2014  ACURA  ...                       25          255\n",
              "4       2014  ACURA  ...                       27          244\n",
              "\n",
              "[5 rows x 13 columns]"
            ]
          },
          "metadata": {
            "tags": []
          },
          "execution_count": 9
        }
      ]
    },
    {
      "cell_type": "markdown",
      "metadata": {
        "id": "WPFW43IpirLY"
      },
      "source": [
        "Lets say we want to use linear regression to predict Co2Emission of cars based on their engine size. So, lets define X and Y value for the linear regression, that is, train_x and train_y:"
      ]
    },
    {
      "cell_type": "code",
      "metadata": {
        "id": "Du4bMgzUirzp"
      },
      "source": [
        "train_x = np.asanyarray(df[['ENGINESIZE']])\n",
        "train_y = np.asanyarray(df[['CO2EMISSIONS']])"
      ],
      "execution_count": 10,
      "outputs": []
    },
    {
      "cell_type": "markdown",
      "metadata": {
        "id": "fFqqZG38iw7r"
      },
      "source": [
        "First, we initialize the variables a and b, with any random guess, and then we define the linear function:"
      ]
    },
    {
      "cell_type": "code",
      "metadata": {
        "id": "KwGLXsMWixuS"
      },
      "source": [
        "a = tf.Variable(20.0)\n",
        "b = tf.Variable(30.2)\n",
        "\n",
        "\n",
        "def h(x):\n",
        "   y = a*x + b\n",
        "   return y"
      ],
      "execution_count": 11,
      "outputs": []
    },
    {
      "cell_type": "markdown",
      "metadata": {
        "id": "oomxNso_jLUG"
      },
      "source": [
        "Now, we are going to define a loss function for our regression, so we can train our model to better fit our data. In a linear regression, we minimize the squared error of the difference between the predicted values(obtained from the equation) and the target values (the data that we have). In other words we want to minimize the square of the predicted values minus the target value. So we define the equation to be minimized as loss.\n",
        "\n",
        "To find value of our loss, we use tf.reduce_mean(). This function finds the mean of a multidimensional tensor, and the result can have a different dimension."
      ]
    },
    {
      "cell_type": "code",
      "metadata": {
        "id": "9H5uuU_5jNRs"
      },
      "source": [
        "def loss_object(y,train_y) :\n",
        "    return tf.reduce_mean(tf.square(y - train_y))\n",
        "    # Below is a predefined method offered by TensorFlow to calculate loss function\n",
        "    #loss_object = tf.keras.losses.MeanSquaredLogarithmicError()"
      ],
      "execution_count": 12,
      "outputs": []
    },
    {
      "cell_type": "markdown",
      "metadata": {
        "id": "VMzB-2ZRjtiK"
      },
      "source": [
        "Now we are ready to start training and run the graph. We use GradientTape to calculate gradients:"
      ]
    },
    {
      "cell_type": "code",
      "metadata": {
        "id": "hCF1TAcajvTK"
      },
      "source": [
        "learning_rate = 0.01\n",
        "train_data = []\n",
        "loss_values =[]\n",
        "# steps of looping through all your data to update the parameters\n",
        "training_epochs = 200\n",
        "\n",
        "# train model\n",
        "for epoch in range(training_epochs):\n",
        "    with tf.GradientTape() as tape:\n",
        "        y_predicted = h(train_x)\n",
        "        loss_value = loss_object(train_y,y_predicted)\n",
        "        loss_values.append(loss_value)\n",
        "\n",
        "        # get gradients\n",
        "        gradients = tape.gradient(loss_value, [b,a])\n",
        "        \n",
        "        # compute and adjust weights\n",
        "        b.assign_sub(gradients[0]*learning_rate)\n",
        "        a.assign_sub(gradients[1]*learning_rate)\n",
        "        if epoch % 5 == 0:\n",
        "            train_data.append([a.numpy(), b.numpy()])"
      ],
      "execution_count": 13,
      "outputs": []
    },
    {
      "cell_type": "markdown",
      "metadata": {
        "id": "NSW1Q7gbkdiN"
      },
      "source": [
        "Lets plot the loss values to see how it has changed during the training:"
      ]
    },
    {
      "cell_type": "code",
      "metadata": {
        "colab": {
          "base_uri": "https://localhost:8080/",
          "height": 391
        },
        "id": "_bwldLIrkfL3",
        "outputId": "a152f111-bc7f-4431-867f-50af4e76bd43"
      },
      "source": [
        "plt.plot(loss_values, 'ro')"
      ],
      "execution_count": 14,
      "outputs": [
        {
          "output_type": "execute_result",
          "data": {
            "text/plain": [
              "[<matplotlib.lines.Line2D at 0x7f2e4eb3dd10>]"
            ]
          },
          "metadata": {
            "tags": []
          },
          "execution_count": 14
        },
        {
          "output_type": "display_data",
          "data": {
            "image/png": "[encoded data removed]",
            "text/plain": [
              "<Figure size 720x432 with 1 Axes>"
            ]
          },
          "metadata": {
            "tags": [],
            "needs_background": "light"
          }
        }
      ]
    },
    {
      "cell_type": "markdown",
      "metadata": {
        "id": "4y9_1S-ok2UR"
      },
      "source": [
        "Lets visualize how the coefficient and intercept of line has changed to fit the data:"
      ]
    },
    {
      "cell_type": "code",
      "metadata": {
        "colab": {
          "base_uri": "https://localhost:8080/",
          "height": 374
        },
        "id": "LA-YLazrk4cM",
        "outputId": "55718968-0498-4cf1-ecea-3c1e1b51cd29"
      },
      "source": [
        "cr, cg, cb = (1.0, 1.0, 0.0)\n",
        "for f in train_data:\n",
        "    cb += 1.0 / len(train_data)\n",
        "    cg -= 1.0 / len(train_data)\n",
        "    if cb > 1.0: cb = 1.0\n",
        "    if cg < 0.0: cg = 0.0\n",
        "    [a, b] = f\n",
        "    f_y = np.vectorize(lambda x: a*x + b)(train_x)\n",
        "    line = plt.plot(train_x, f_y)\n",
        "    plt.setp(line, color=(cr,cg,cb))\n",
        "\n",
        "plt.plot(train_x, train_y, 'ro')\n",
        "green_line = mpatches.Patch(color='red', label='Data Points')\n",
        "\n",
        "plt.legend(handles=[green_line])\n",
        "\n",
        "plt.show()"
      ],
      "execution_count": 15,
      "outputs": [
        {
          "output_type": "display_data",
          "data": {
            "image/png": "[encoded data removed]",
            "text/plain": [
              "<Figure size 720x432 with 1 Axes>"
            ]
          },
          "metadata": {
            "tags": [],
            "needs_background": "light"
          }
        }
      ]
    }
  ]
}